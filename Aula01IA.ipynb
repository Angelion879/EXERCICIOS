{
  "nbformat": 4,
  "nbformat_minor": 0,
  "metadata": {
    "colab": {
      "name": "Aula01IA.ipynb",
      "provenance": [],
      "authorship_tag": "ABX9TyM0f+rHYM5an57SxgUS1oxF",
      "include_colab_link": true
    },
    "kernelspec": {
      "name": "python3",
      "display_name": "Python 3"
    },
    "language_info": {
      "name": "python"
    }
  },
  "cells": [
    {
      "cell_type": "markdown",
      "metadata": {
        "id": "view-in-github",
        "colab_type": "text"
      },
      "source": [
        "<a href=\"https://colab.research.google.com/github/Angelion879/EXERCICIOS/blob/PYTHON/Aula01IA.ipynb\" target=\"_parent\"><img src=\"https://colab.research.google.com/assets/colab-badge.svg\" alt=\"Open In Colab\"/></a>"
      ]
    },
    {
      "cell_type": "markdown",
      "source": [
        "## Primeiros passos do tratamentos de dados na nuvem - Bianca Angelis"
      ],
      "metadata": {
        "id": "cMkqV90PCYQ5"
      }
    },
    {
      "cell_type": "code",
      "source": [
        "a = 20\n",
        "b = 30\n",
        "total = (a + b)\n",
        "print(f\"O total é {total}\")"
      ],
      "metadata": {
        "colab": {
          "base_uri": "https://localhost:8080/"
        },
        "id": "zyMaRQkICvdA",
        "outputId": "37494959-75f5-4d3f-b5ed-a8b5ab866640"
      },
      "execution_count": 2,
      "outputs": [
        {
          "output_type": "stream",
          "name": "stdout",
          "text": [
            "O total é 50\n"
          ]
        }
      ]
    },
    {
      "cell_type": "code",
      "source": [
        ""
      ],
      "metadata": {
        "id": "JRXLndOiDG3m"
      },
      "execution_count": null,
      "outputs": []
    }
  ]
}